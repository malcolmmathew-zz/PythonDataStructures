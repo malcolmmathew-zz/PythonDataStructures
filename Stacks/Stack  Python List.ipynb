{
 "cells": [
  {
   "cell_type": "code",
   "execution_count": 15,
   "metadata": {
    "collapsed": false
   },
   "outputs": [],
   "source": [
    "class Stack:\n",
    "    def __init__(self):\n",
    "        self.stack = []\n",
    "    \n",
    "    def push(self, data):\n",
    "        self.stack.append(data)\n",
    "    \n",
    "    def pop(self):\n",
    "        self.stack.pop()\n",
    "        \n",
    "    def empty(self):\n",
    "        return self.stack==[]\n",
    "    "
   ]
  },
  {
   "cell_type": "code",
   "execution_count": 17,
   "metadata": {
    "collapsed": false
   },
   "outputs": [
    {
     "name": "stdout",
     "output_type": "stream",
     "text": [
      "0\n",
      "1\n",
      "2\n",
      "3\n",
      "4\n",
      "5\n",
      "6\n",
      "7\n",
      "8\n",
      "9\n",
      "False\n",
      "True\n"
     ]
    }
   ],
   "source": [
    "st = Stack()\n",
    "for i in range(0,10):\n",
    "    st.push(i)\n",
    "    print st.stack[i]\n",
    "print str(st.empty())\n",
    "\n",
    "for i in range(0,10):\n",
    "    st.pop()\n",
    "print str(st.empty())"
   ]
  },
  {
   "cell_type": "code",
   "execution_count": null,
   "metadata": {
    "collapsed": true
   },
   "outputs": [],
   "source": []
  }
 ],
 "metadata": {
  "kernelspec": {
   "display_name": "Python 2",
   "language": "python",
   "name": "python2"
  },
  "language_info": {
   "codemirror_mode": {
    "name": "ipython",
    "version": 2
   },
   "file_extension": ".py",
   "mimetype": "text/x-python",
   "name": "python",
   "nbconvert_exporter": "python",
   "pygments_lexer": "ipython2",
   "version": "2.7.6"
  }
 },
 "nbformat": 4,
 "nbformat_minor": 0
}
