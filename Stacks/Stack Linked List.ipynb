{
 "cells": [
  {
   "cell_type": "code",
   "execution_count": 1,
   "metadata": {
    "collapsed": true
   },
   "outputs": [],
   "source": [
    "class Node:\n",
    "    def __init__(self, data=None, next_node=None):\n",
    "        self.data = data\n",
    "        self.next_node = next_node\n",
    "    \n",
    "    def __str__(self):\n",
    "        return str(self.data)\n",
    "    \n",
    "    def retrieve(self):\n",
    "        return self.data\n",
    "    \n",
    "    def next(self):\n",
    "        return self.next_node\n",
    "    \n",
    "    def print_backwards(head):\n",
    "        if head==None: return\n",
    "        head = head\n",
    "        tail = head.next_node\n",
    "        print_backwards(tail)\n",
    "        print head\n",
    "    \n",
    "class LinkedList:\n",
    "    def __init__(self, head=None):\n",
    "        self.length = 0\n",
    "        self.head = head\n",
    "    \n",
    "    def print_list(self):\n",
    "        head = self.head\n",
    "        while head:\n",
    "            print head,\n",
    "            head = head.next()\n",
    "            print\n",
    "    \n",
    "    def empty(self):\n",
    "        return size == 0\n",
    "    \n",
    "    def front(self):\n",
    "        return self.head\n",
    "    \n",
    "    def back(self):\n",
    "        head = self.head\n",
    "        if head==None: return head\n",
    "        while head.next_node != None:\n",
    "            head = head.next()\n",
    "        return head\n",
    "    \n",
    "    \n",
    "    \n",
    "    def print_backwards(self):\n",
    "        print \"[\",\n",
    "        if self.head != None:\n",
    "            self.head.print_backwards()\n",
    "        print \"]\",\n",
    "        \n",
    "    def prepend_node(self, data):\n",
    "        head = self.head\n",
    "        node = Node(data)\n",
    "        if self.head == None:\n",
    "            head = node\n",
    "            return\n",
    "        \n",
    "        node.next_node = head\n",
    "        head = node\n",
    "        self.length += 1   \n",
    "    \n",
    "    def append_node(self, data):\n",
    "        head = self.head\n",
    "        node = Node(data)\n",
    "        if head==None:\n",
    "            head = node\n",
    "            return\n",
    "        while head.next() != None:\n",
    "            head = head.next()\n",
    "        head.next_node = node\n",
    "        self.length += 1                            "
   ]
  },
  {
   "cell_type": "code",
   "execution_count": 6,
   "metadata": {
    "collapsed": false
   },
   "outputs": [],
   "source": [
    "class Stack:\n",
    "    def __init__(self, list=None):\n",
    "        self.list = LinkedList(list)\n",
    "    \n",
    "    def empty(self):\n",
    "        return self.list.empty()\n",
    "    \n",
    "    def push(self):\n",
    "        return self.list.prepend_node()\n",
    "    \n",
    "    \n",
    "    "
   ]
  },
  {
   "cell_type": "code",
   "execution_count": null,
   "metadata": {
    "collapsed": true
   },
   "outputs": [],
   "source": []
  }
 ],
 "metadata": {
  "kernelspec": {
   "display_name": "Python 2",
   "language": "python",
   "name": "python2"
  },
  "language_info": {
   "codemirror_mode": {
    "name": "ipython",
    "version": 2
   },
   "file_extension": ".py",
   "mimetype": "text/x-python",
   "name": "python",
   "nbconvert_exporter": "python",
   "pygments_lexer": "ipython2",
   "version": "2.7.6"
  }
 },
 "nbformat": 4,
 "nbformat_minor": 0
}
