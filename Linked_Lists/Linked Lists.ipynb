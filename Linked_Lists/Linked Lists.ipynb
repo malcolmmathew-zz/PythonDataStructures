{
 "cells": [
  {
   "cell_type": "code",
   "execution_count": 39,
   "metadata": {
    "collapsed": false
   },
   "outputs": [],
   "source": [
    "class Node:\n",
    "    def __init__(self, data=None, next_node=None):\n",
    "        self.data = data\n",
    "        self.next_node = next_node\n",
    "    \n",
    "    def __str__(self):\n",
    "        return str(self.data)\n",
    "    \n",
    "    def retrieve(self):\n",
    "        return self.data\n",
    "    \n",
    "    def next(self):\n",
    "        return self.next_node\n",
    "    \n",
    "    def print_backwards(head):\n",
    "        if head==None: return\n",
    "        head = head\n",
    "        tail = head.next_node\n",
    "        print_backwards(tail)\n",
    "        print head\n",
    "    \n",
    "class LinkedList:\n",
    "    def __init__(self, head=None):\n",
    "        self.length = 0\n",
    "        self.head = head\n",
    "    \n",
    "    def print_list(self):\n",
    "        head = self.head\n",
    "        while head:\n",
    "            print head,\n",
    "            head = head.next()\n",
    "            print\n",
    "    \n",
    "    def empty(self):\n",
    "        return size == 0\n",
    "    \n",
    "    def front(self):\n",
    "        return self.head\n",
    "    \n",
    "    def back(self):\n",
    "        head = self.head\n",
    "        if head==None: return head\n",
    "        while head.next_node != None:\n",
    "            head = head.next()\n",
    "        return head\n",
    "    \n",
    "    \n",
    "    \n",
    "    def print_backwards(self):\n",
    "        print \"[\",\n",
    "        if self.head != None:\n",
    "            self.head.print_backwards()\n",
    "        print \"]\",\n",
    "        \n",
    "    def prepend_node(self, data):\n",
    "        head = self.head\n",
    "        node = Node(data)\n",
    "        if self.head == None:\n",
    "            head = node\n",
    "            return\n",
    "        \n",
    "        node.next_node = head\n",
    "        head = node\n",
    "        self.length += 1   \n",
    "    \n",
    "    def append_node(self, data):\n",
    "        head = self.head\n",
    "        node = Node(data)\n",
    "        if head==None:\n",
    "            head = node\n",
    "            return\n",
    "        while head.next() != None:\n",
    "            head = head.next()\n",
    "        head.next_node = node\n",
    "        self.length += 1                            "
   ]
  },
  {
   "cell_type": "code",
   "execution_count": 37,
   "metadata": {
    "collapsed": false
   },
   "outputs": [
    {
     "name": "stdout",
     "output_type": "stream",
     "text": [
      "Node added with data: 2\n",
      "Node added with data: 3\n",
      "1\n",
      "2\n",
      "3\n"
     ]
    }
   ],
   "source": [
    "test_node = Node(\"test\")\n",
    "node1 = Node(1)\n",
    "node2 = Node(2)\n",
    "node3 = Node(3)\n",
    "\n",
    "ll = LinkedList(node1)\n",
    "ll.append_node(node2)\n",
    "ll.append_node(node3)\n",
    "ll.print_list()"
   ]
  },
  {
   "cell_type": "code",
   "execution_count": 31,
   "metadata": {
    "collapsed": false
   },
   "outputs": [],
   "source": [
    "node1.next = node2\n",
    "node2.next = node3"
   ]
  },
  {
   "cell_type": "code",
   "execution_count": 36,
   "metadata": {
    "collapsed": false
   },
   "outputs": [
    {
     "name": "stdout",
     "output_type": "stream",
     "text": [
      "1\n",
      "2\n",
      "3\n",
      "3\n",
      "2\n",
      "1\n"
     ]
    }
   ],
   "source": [
    "print_list(node1)\n",
    "print_backwards(node1)"
   ]
  },
  {
   "cell_type": "code",
   "execution_count": null,
   "metadata": {
    "collapsed": true
   },
   "outputs": [],
   "source": []
  }
 ],
 "metadata": {
  "kernelspec": {
   "display_name": "Python 2",
   "language": "python",
   "name": "python2"
  },
  "language_info": {
   "codemirror_mode": {
    "name": "ipython",
    "version": 2
   },
   "file_extension": ".py",
   "mimetype": "text/x-python",
   "name": "python",
   "nbconvert_exporter": "python",
   "pygments_lexer": "ipython2",
   "version": "2.7.6"
  }
 },
 "nbformat": 4,
 "nbformat_minor": 0
}
