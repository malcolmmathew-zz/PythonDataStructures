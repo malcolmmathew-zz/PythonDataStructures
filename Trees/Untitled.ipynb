{
 "cells": [
  {
   "cell_type": "code",
   "execution_count": 49,
   "metadata": {
    "collapsed": false
   },
   "outputs": [],
   "source": [
    "class Tree:\n",
    "    def __init__(self, data, left=None, right=None):\n",
    "        self.data = data\n",
    "        self.left = left\n",
    "        self.right = right\n",
    "    \n",
    "    def __str__(self):\n",
    "        return str(self.data)\n",
    "    \n",
    "def total(tree):\n",
    "    if tree == None: return 0\n",
    "    return total(tree.left) + total(tree.right) + tree.data\n",
    "    \n",
    "def print_tree(tree):\n",
    "    if tree == None: return\n",
    "    print tree.data\n",
    "    print_tree(tree.left)\n",
    "    print_tree(tree.right)\n",
    "    \n",
    "def print_tree_postorder(tree):\n",
    "    if tree == None: return\n",
    "    print_postorder_tree(tree.left)\n",
    "    print_postorder_tree(tree.right)\n",
    "    print tree.data,\n",
    "    \n",
    "def print_tree_inorder(tree):\n",
    "    if tree == None: return\n",
    "    print_tree_inorder(tree.left)\n",
    "    print tree.data,\n",
    "    print_tree_inorder(tree.right)\n",
    "\n",
    "    "
   ]
  },
  {
   "cell_type": "code",
   "execution_count": 51,
   "metadata": {
    "collapsed": false
   },
   "outputs": [
    {
     "name": "stdout",
     "output_type": "stream",
     "text": [
      "4 2 5 1 6 3 7\n"
     ]
    }
   ],
   "source": [
    "left = Tree(2, Tree(4), Tree(5))\n",
    "right = Tree(3, Tree(6), Tree(7))\n",
    "\n",
    "tree = Tree(1, left, right)\n",
    "\n",
    "#total(tree)\n",
    "\n",
    "#print_tree(tree)\n",
    "\n",
    "print_tree_inorder(tree)"
   ]
  },
  {
   "cell_type": "code",
   "execution_count": null,
   "metadata": {
    "collapsed": true
   },
   "outputs": [],
   "source": []
  }
 ],
 "metadata": {
  "kernelspec": {
   "display_name": "Python 2",
   "language": "python",
   "name": "python2"
  },
  "language_info": {
   "codemirror_mode": {
    "name": "ipython",
    "version": 2
   },
   "file_extension": ".py",
   "mimetype": "text/x-python",
   "name": "python",
   "nbconvert_exporter": "python",
   "pygments_lexer": "ipython2",
   "version": "2.7.6"
  }
 },
 "nbformat": 4,
 "nbformat_minor": 0
}
